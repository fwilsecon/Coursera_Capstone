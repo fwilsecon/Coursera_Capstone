{
 "cells": [
  {
   "cell_type": "markdown",
   "metadata": {},
   "source": [
    "## Geographical Access to Healthcare Resources in Los Angeles California"
   ]
  },
  {
   "cell_type": "markdown",
   "metadata": {},
   "source": [
    "### I. Introduction"
   ]
  },
  {
   "cell_type": "markdown",
   "metadata": {},
   "source": [
    "Access to healthcare such as physician clinics and hospitals remains a significant problem for low-income or predominately immigrant communities in the United States (US) (IOM, 2002; KFF, 2019). Consequently, utilization of primary healthcare in these medically underserved communities can be difficult and may involve substantial travel time to see healthcare providers. For example, a recent study of travel time for older cancer patients reported significantly higher healthcare expenditures and hospitalization rates for patients traveling longer than one hour versus less than 30 minutes (Rocque et al, 2019). Despite the importance of geographical access to healthcare on its utilization, the distribution and types of medical resources available within major US cities are uncertain.  \n",
    "\n",
    "To address this knowledge gap, this project uses Foursquare business data to list medical facilities and map their locations for each neighborhood in the Los Angeles area. Los Angeles was chosen for the analysis because it is the 2nd largest metropolitan area in the US and is geographically dispersed with large immigrant and low-income communi"
   ]
  },
  {
   "cell_type": "markdown",
   "metadata": {},
   "source": [
    "## II. Data and Analytical Plan\n",
    "\n",
    "Neighborhood data for Los Angeles including name and geospatial (latitude and longitude) coordinates are provided by the University of Southern California Price Center for Social Innovation's Neighborhood Data for Social Change (NDSC) platform (NDSC, 2020). There are 272 neighborhoods in Los Angeles. Business type and location data for each neighborhood are available from the Foursquare Places API. Using the Foursquare data, we will select all businesses that are classified by Foursquare as a \"Medical Center\" venue category. Medical centers include 16 specific types of venues including hospitals, emergency rooms, physician offices, dentists, eye doctors, mental health offices, and other providers. A full list of medical centers is available elsewhere (Foursquare, 2020). Veterinarians, pet hospitals, chiropractors, and medical schools will be excluded from the analysis.  \n",
    "\n",
    "For the analysis, Folium will be used to map each neighborhood in Los Angeles using the NDSC neighborhood dataset. Afterward, the Foursquare Places API will be used to report the top 5 medical center venues for each neighborhood with at least one center in Los Angeles. K-means will be used to create up to 5 clusters of medical center types within the Los Angeles area. Finally, the clusters will be mapped using Folium.\n"
   ]
  },
  {
   "cell_type": "markdown",
   "metadata": {},
   "source": [
    "## References\n",
    "\n",
    "\n",
    "Rocque GB, Williams CP, Miller HD. Impact of Travel Time on Health Care Costs and Resource Use by Phase of Care for Older Patients With Cancer. Journal of Clinical Oncology. 2019;37(22):1935-45.\n",
    "\n",
    "Foursquare. Venue Categories. January 2020. Available at: https://developer.foursquare.com/docs/resources/categories\n",
    "\n",
    "Institute of Medicine (IOM). The Future of the Public's Health in the 21st Century. Washington (DC): National Academies Press (US); 2002. \n",
    "\n",
    "Kaiser Family Foundation (KFF). Health Coverage of Immigrants Fact Sheet. February 2019. Available at: https://www.kff.org/disparities-policy/fact-sheet/health-coverage-of-immigrants/\n",
    "\n",
    "Neighborhood Data for Social Change (NDSC). Los Angeles Neighborhood Map. January ",
    "2020. Available at: https://usc.data.socrata.com/dataset/Los-Angeles-Neighborhood-Map/r8qd-yxsr.\n",
    "\n",
    "\n"
   ]
  },
  {
   "cell_type": "code",
   "execution_count": null,
   "metadata": {},
   "outputs": [],
   "source": []
  }
 ],
 "metadata": {
  "kernelspec": {
   "display_name": "Python",
   "language": "python",
   "name": "conda-env-python-py"
  },
  "language_info": {
   "codemirror_mode": {
    "name": "ipython",
    "version": 3
   },
   "file_extension": ".py",
   "mimetype": "text/x-python",
   "name": "python",
   "nbconvert_exporter": "python",
   "pygments_lexer": "ipython3",
   "version": "3.6.7"
  }
 },
 "nbformat": 4,
 "nbformat_minor": 4
}
