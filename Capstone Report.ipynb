{
 "cells": [
  {
   "cell_type": "markdown",
   "metadata": {},
   "source": [
    "## Geographical Access to Healthcare Resources in Los Angeles California"
   ]
  },
  {
   "cell_type": "markdown",
   "metadata": {},
   "source": [
    "### I. Introduction"
   ]
  },
  {
   "cell_type": "markdown",
   "metadata": {},
   "source": [
    "Access to healthcare such as physician clinics and hospitals remains a significant problem for low-income or predominately immigrant communities in the United States (US) (IOM, 2002; KFF, 2019). Consequently, utilization of primary healthcare in these medically underserved communities can be difficult and may involve substantial travel time to see healthcare providers. For example, a recent study of travel time for older cancer patients reported significantly higher healthcare expenditures and hospitalization rates for patients traveling longer than one hour versus less than 30 minutes (Rocque et al, 2019). Despite the importance of geographical access to healthcare on its utilization, the distribution and types of medical infrastructure available within major US cities are uncertain. Furthermore, it is unclear how this infrastructure correlates to health outcomes such as life expectancy in a community.\n",
    "\n",
    "To address this knowledge gap, this project uses Foursquare business data to list healthcare facilities and map their locations for each neighborhood in the Los Angeles area. Los Angeles (LA) was chosen for the analysis because it is the 2nd largest metropolitan area in the US and is geographically dispersed with large immigrant and low-income communities. In addition, we utilize data on average life expectancy in years for each LA neighborhood to report spatial variation in life expectancy and relate these data to the number of healthcare facilities available in each neighborhood. The intended audience for the project will be State of California policymakers, healthcare workforce stakeholders, and patient advocacy organizations. "
   ]
  },
  {
   "cell_type": "markdown",
   "metadata": {},
   "source": [
    "## II. Data and Analytical Plan\n",
    "\n",
    "Neighborhood data for Los Angeles including name and geospatial (latitude and longitude) coordinates are provided by the University of Southern California Price Center for Social Innovation's Neighborhood Data for Social Change (NDSC) platform (NDSC, 2020). There are 272 neighborhoods in Los Angeles. Business type and location data for each neighborhood are available from the Foursquare Places API. Using the Foursquare data, we will select all healthcare-related businesses that are classified by Foursquare as a \"Medical Center\" venue category. Healthcare centers include 16 specific types of venues including hospitals, emergency rooms, physician offices, dentists, eye doctors, mental health offices, and other providers. A full list of healthcare centers is available elsewhere (Foursquare, 2020). Veterinarians, pet hospitals, chiropractors, cosmetic clinics, military centers, eye care offices, and medical schools will be excluded from the analysis. This left a total of 20 healthcare-related service types. A total of 158 out of 272 LA neighborhoods had at least one type of healthcare center within a 500 meter radius. This radius was chosen to limit overlap across neighborhoods. \n",
    "\n",
    "For the analysis, Folium will be used to map each neighborhood in Los Angeles using the NDSC neighborhood dataset. Afterward, the Foursquare Places API will be used to report the top 5 healthcare center venues for each neighborhood with at least one center in Los Angeles. K-means will be used to create up to 5 clusters of healthcare center types within the Los Angeles area. The clusters will be mapped using Folium.\n",
    "\n",
    "Afterward, census tract data on average life expectancy will be aggregated to the neighborhood level. Life expectancy data are provided by the Centers for Disease Control and Prevention's National Center for Health Statistics (NCHS, 2020). K-means analysis will group the LA neighborhoods into five categories of life expectancy, ranging from very low to very high. Finally, Folium will be utilized to map the results of the k-means groupings of life expectancy for Los Angeles.\n"
   ]
  },
  {
   "cell_type": "markdown",
   "metadata": {},
   "source": [
    "## III. Results\n",
    "\n",
    "Figure 1 presents the locations of each neighborhood in LA.\n",
    "![fig_1.png](fig_1.png \"Figure 1\")\n",
    "\n",
    "For each of LA's 272 neighborhoods, Foursquare data were used to determine the types and numbers of healthcare facilities available. Table 1 presents the top three healthcare facilities for selected neighborhoods in LA.\n",
    "![table_1.png](table_1.png \"Table 1\")\n",
    "\n",
    "K-means cluster analysis was used to create five clusters of healthcare center types. A total of 158 LA neighborhoods had at least one type of healthcare center. Results from this clustering were mapped based on neighborhood location (see Figure 2 below).\n",
    "![fig_2.png](fig_2.png \"Figure 2\")\n",
    "\n",
    "Table 2 provides average life expectancy at birth in years (denoted \"e(0)\") for selected neighborhoods in LA. For example, Acton has an average life expectancy of 76 years versus 83 years in Alhambra--a difference of 7 years.  \n",
    "![table_2.png](table_2.png \"Table 2\")\n",
    "\n",
    "Figure 3 uses k-means cluster analysis to create five clusters based on average life expectancy across LA neighborhoods. Life expectancy was categorized as very low, low, average, high, and very high. Red and orange circles denote very low and low life expectancy, respectively. Purple and blue circles denote very high and high life expectancy, respectively. Most neighborhoods with below average life expectancy are clustered in south and southwest LA, ranging from Long Beach to downtown LA and West of Burbank. \n",
    "\n",
    "![fig_3.png](fig_3.png \"Figure 3\")\n",
    "\n",
    "The Beverly Hills area has among the highest average life expectancies in LA (Table 3). Life expectancy is 85.8 years in Beverly Hills. The most common healthcare centers include acupunturists, doctor's offices, urgent care centers, alternative healers, and assisted living facilities. \n",
    "\n",
    "![table_3.png](table_3.png \"Table 3\")\n",
    "\n",
    "In contrast to Beverly Hills, Inglewood (located in southwest LA) has among the lowest levels of life expectancy with the average resident living 78.6 years (Table 4). This is over seven years shorter than that of Beverly Hills. The most common healthcare facilities are hospitals, medical centers, dentist's offices, doctor's offices, and emergency rooms. \n",
    "\n",
    "![table_4.png](table_4.png \"Table 4\")\n"
   ]
  },
  {
   "cell_type": "markdown",
   "metadata": {},
   "source": [
    "## IV. Discussion & Conclusions\n",
    "\n",
    "This project undertakes geospatial analysis of healthcare facilities that are available in the LA metro area. K-means clustering analysis indicates a wide range of dispersion in type and number of healthcare facilities throughout the region. Data on average life expectancy by neighborhood were utilized to identify clusters of very low to very high life expectancy across LA. For example, a comparison of Beverly Hills (a very high socioeconomic status neighborhood) with Inglewood (a low socioeconomic status neighborhood) indicated a 7 year difference in life expectancies. Inglewood is approximately a 30 minute drive (12 miles; 19 kilometers) from Beverly Hills. In contrast to Inglewood's healthcare facilities in which hospitals and medical centers were the most common, Beverly Hills was more likely to have non-traditional forms of health and wellness facilities such as acupuncturists and alternative healers. \n",
    "\n",
    "The US has long-standing and persistent disparities in health outcomes due to barriers in access to care faced by low socioeconomic status neighborhoods (IOM, 2002). This has resulted in substantial variation in life expectancy within small geographical areas. This project highlighted these disparities in types of healthcare facilities and life expectancy for the LA metro area, which is the 2nd largest city in the US. The findings highlight the critical need for public health and healthcare resources in traditionally underserved and disadvantaged communities within LA.     "
   ]
  },
  {
   "cell_type": "markdown",
   "metadata": {},
   "source": [
    "## References\n",
    "\n",
    "National Center for Health Statistics (NCHS). National Vital Statistics Center. U.S. Small-area Life Expectancy Estimates Project - USALEEP. Centers for Disease Control and Prevention. Available at: https://www.cdc.gov/nchs/nvss/usaleep/usaleep.html#life-expectancy\n",
    "\n",
    "Foursquare. Venue Categories. January 2020. Available at: https://developer.foursquare.com/docs/resources/categories\n",
    "\n",
    "Institute of Medicine (IOM). The Future of the Public's Health in the 21st Century. Washington (DC): National Academies Press (US); 2002. \n",
    "\n",
    "Kaiser Family Foundation (KFF). Health Coverage of Immigrants Fact Sheet. February 2019. Available at: https://www.kff.org/disparities-policy/fact-sheet/health-coverage-of-immigrants/\n",
    "\n",
    "Neighborhood Data for Social Change (NDSC). Los Angeles Neighborhood Map. January \n",
    "2020. Available at: https://usc.data.socrata.com/dataset/Los-Angeles-Neighborhood-Map/r8qd-yxsr.\n",
    "\n",
    "Rocque GB, Williams CP, Miller HD. Impact of Travel Time on Health Care Costs and Resource Use by Phase of Care for Older Patients With Cancer. Journal of Clinical Oncology. 2019;37(22):1935-45.\n",
    "\n",
    "\n"
   ]
  }
 ],
 "metadata": {
  "kernelspec": {
   "display_name": "Python",
   "language": "python",
   "name": "conda-env-python-py"
  },
  "language_info": {
   "codemirror_mode": {
    "name": "ipython",
    "version": 3
   },
   "file_extension": ".py",
   "mimetype": "text/x-python",
   "name": "python",
   "nbconvert_exporter": "python",
   "pygments_lexer": "ipython3",
   "version": "3.6.7"
  }
 },
 "nbformat": 4,
 "nbformat_minor": 4
}
